{
 "cells": [
  {
   "cell_type": "markdown",
   "metadata": {},
   "source": [
    "# Computing the variance"
   ]
  },
  {
   "cell_type": "code",
   "execution_count": 2,
   "metadata": {},
   "outputs": [],
   "source": [
    "import numpy as np\n",
    "import matplotlib.pyplot as plt\n",
    "versicolor_petal_length= np.array([4.7, 4.5, 4.9, 4. , 4.6, 4.5, 4.7, 3.3, 4.6, 3.9, 3.5, 4.2, 4. ,\n",
    "       4.7, 3.6, 4.4, 4.5, 4.1, 4.5, 3.9, 4.8, 4. , 4.9, 4.7, 4.3, 4.4,\n",
    "       4.8, 5. , 4.5, 3.5, 3.8, 3.7, 3.9, 5.1, 4.5, 4.5, 4.7, 4.4, 4.1,\n",
    "       4. , 4.4, 4.6, 4. , 3.3, 4.2, 4.2, 4.2, 4.3, 3. , 4.1])"
   ]
  },
  {
   "cell_type": "markdown",
   "metadata": {},
   "source": [
    "1. Create an array called differences that is the difference between the petal lengths (versicolor_petal_length) and the mean petal length. The variable versicolor_petal_length is already in your namespace as a NumPy array so you can take advantage of NumPy's vectorized operations.<br/><br/>\n",
    "2. Square each element in this array. For example, x**2 squares each element in the array x. Store the result as diff_sq.<br/><br/>\n",
    "3. Compute the mean of the elements in diff_sq using np.mean(). Store the result as variance_explicit.<br/><br/>\n",
    "4. Compute the variance of versicolor_petal_length using np.var(). Store the result as variance_np.<br/><br/>\n",
    "5. Print both variance_explicit and variance_np in one print call to make sure they are consistent.<br/><br/>\n"
   ]
  },
  {
   "cell_type": "code",
   "execution_count": 4,
   "metadata": {},
   "outputs": [
    {
     "name": "stdout",
     "output_type": "stream",
     "text": [
      "[ 0.44  0.24  0.64 -0.26  0.34  0.24  0.44 -0.96  0.34 -0.36 -0.76 -0.06\n",
      " -0.26  0.44 -0.66  0.14  0.24 -0.16  0.24 -0.36  0.54 -0.26  0.64  0.44\n",
      "  0.04  0.14  0.54  0.74  0.24 -0.76 -0.46 -0.56 -0.36  0.84  0.24  0.24\n",
      "  0.44  0.14 -0.16 -0.26  0.14  0.34 -0.26 -0.96 -0.06 -0.06 -0.06  0.04\n",
      " -1.26 -0.16]\n"
     ]
    }
   ],
   "source": [
    "#code\n",
    "differences=versicolor_petal_length-np.mean(versicolor_petal_length)\n",
    "print(differences)\n"
   ]
  },
  {
   "cell_type": "code",
   "execution_count": 5,
   "metadata": {},
   "outputs": [
    {
     "name": "stdout",
     "output_type": "stream",
     "text": [
      "[0.1936 0.0576 0.4096 0.0676 0.1156 0.0576 0.1936 0.9216 0.1156 0.1296\n",
      " 0.5776 0.0036 0.0676 0.1936 0.4356 0.0196 0.0576 0.0256 0.0576 0.1296\n",
      " 0.2916 0.0676 0.4096 0.1936 0.0016 0.0196 0.2916 0.5476 0.0576 0.5776\n",
      " 0.2116 0.3136 0.1296 0.7056 0.0576 0.0576 0.1936 0.0196 0.0256 0.0676\n",
      " 0.0196 0.1156 0.0676 0.9216 0.0036 0.0036 0.0036 0.0016 1.5876 0.0256]\n"
     ]
    }
   ],
   "source": [
    "diff_sq=differences**2\n",
    "print(diff_sq)"
   ]
  },
  {
   "cell_type": "code",
   "execution_count": 6,
   "metadata": {},
   "outputs": [
    {
     "name": "stdout",
     "output_type": "stream",
     "text": [
      "0.21640000000000004\n"
     ]
    }
   ],
   "source": [
    "var_ex=np.mean(diff_sq)\n",
    "print( var_ex)\n"
   ]
  },
  {
   "cell_type": "code",
   "execution_count": 7,
   "metadata": {},
   "outputs": [
    {
     "name": "stdout",
     "output_type": "stream",
     "text": [
      "0.21640000000000004\n"
     ]
    }
   ],
   "source": [
    "va_np=np.var(versicolor_petal_length)\n",
    "print(va_np)"
   ]
  },
  {
   "cell_type": "markdown",
   "metadata": {},
   "source": [
    "Part 2"
   ]
  },
  {
   "cell_type": "markdown",
   "metadata": {},
   "source": [
    "1. Compute the variance of the data in the versicolor_petal_length array using np.var() and store it in a variable called variance.\n",
    "\n",
    "2. Print the square root of this value.\n",
    "\n",
    "3. Print the standard deviation of the data in the versicolor_petal_length array using np.std()."
   ]
  },
  {
   "cell_type": "code",
   "execution_count": 8,
   "metadata": {},
   "outputs": [
    {
     "name": "stdout",
     "output_type": "stream",
     "text": [
      "0.4651881339845203\n"
     ]
    }
   ],
   "source": [
    "#code\n",
    "variance=np.var(versicolor_petal_length)\n",
    "print(np.sqrt(variance))\n"
   ]
  },
  {
   "cell_type": "code",
   "execution_count": 9,
   "metadata": {},
   "outputs": [
    {
     "name": "stdout",
     "output_type": "stream",
     "text": [
      "0.4651881339845203\n"
     ]
    }
   ],
   "source": [
    "print(np.std(versicolor_petal_length))"
   ]
  },
  {
   "cell_type": "code",
   "execution_count": 12,
   "metadata": {},
   "outputs": [
    {
     "data": {
      "text/plain": [
       "array([0.1, 0.2, 0.3, 0.4, 0.5, 0.6, 0.7, 0.8, 0.9, 1. ])"
      ]
     },
     "execution_count": 12,
     "metadata": {},
     "output_type": "execute_result"
    }
   ],
   "source": [
    "np.arange(1,11)/10"
   ]
  },
  {
   "cell_type": "code",
   "execution_count": null,
   "metadata": {},
   "outputs": [],
   "source": []
  }
 ],
 "metadata": {
  "kernelspec": {
   "display_name": "Python 3",
   "language": "python",
   "name": "python3"
  },
  "language_info": {
   "codemirror_mode": {
    "name": "ipython",
    "version": 3
   },
   "file_extension": ".py",
   "mimetype": "text/x-python",
   "name": "python",
   "nbconvert_exporter": "python",
   "pygments_lexer": "ipython3",
   "version": "3.7.1"
  }
 },
 "nbformat": 4,
 "nbformat_minor": 2
}
